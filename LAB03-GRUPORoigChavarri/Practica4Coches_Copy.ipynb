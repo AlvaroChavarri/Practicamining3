{
 "cells": [
  {
   "cell_type": "markdown",
   "metadata": {},
   "source": [
    "# Practica 4 Coches"
   ]
  },
  {
   "cell_type": "markdown",
   "metadata": {},
   "source": [
    "Primero importaremos las librerias necesarias para realizar la clasificacion de este dataset"
   ]
  },
  {
   "cell_type": "code",
   "execution_count": 3,
   "metadata": {},
   "outputs": [],
   "source": [
    "import pandas as pd\n",
    "import numpy as np\n",
    "import sklearn as sl\n",
    "import matplotlib.pyplot as pl\n",
    "import mlxtend as mx\n",
    "import seaborn as sns\n",
    "from sklearn.model_selection import GridSearchCV\n",
    "import scikitplot as skplt\n",
    "from sklearn.metrics import classification_report\n",
    "\n",
    "from sklearn.neighbors import KNeighborsClassifier\n",
    "from sklearn.metrics import pairwise_distances_argmin_min\n",
    "from sklearn import svm\n",
    "from sklearn.model_selection import train_test_split\n",
    "from sklearn import datasets\n",
    "from sklearn import metrics\n",
    "from sklearn.metrics import confusion_matrix\n",
    "%matplotlib inline\n",
    "from mpl_toolkits.mplot3d import Axes3D\n",
    "pl.rcParams['figure.figsize'] = (16, 9)\n",
    "pl.style.use('ggplot')"
   ]
  },
  {
   "cell_type": "markdown",
   "metadata": {},
   "source": [
    "Después, leeremos el csv sobre el que realizaremos el ejercicio"
   ]
  },
  {
   "cell_type": "code",
   "execution_count": 4,
   "metadata": {},
   "outputs": [
    {
     "data": {
      "text/html": [
       "<div>\n",
       "<style scoped>\n",
       "    .dataframe tbody tr th:only-of-type {\n",
       "        vertical-align: middle;\n",
       "    }\n",
       "\n",
       "    .dataframe tbody tr th {\n",
       "        vertical-align: top;\n",
       "    }\n",
       "\n",
       "    .dataframe thead th {\n",
       "        text-align: right;\n",
       "    }\n",
       "</style>\n",
       "<table border=\"1\" class=\"dataframe\">\n",
       "  <thead>\n",
       "    <tr style=\"text-align: right;\">\n",
       "      <th></th>\n",
       "      <th>age</th>\n",
       "      <th>gender</th>\n",
       "      <th>miles</th>\n",
       "      <th>debt</th>\n",
       "      <th>income</th>\n",
       "      <th>sales</th>\n",
       "    </tr>\n",
       "  </thead>\n",
       "  <tbody>\n",
       "    <tr>\n",
       "      <th>0</th>\n",
       "      <td>28</td>\n",
       "      <td>0</td>\n",
       "      <td>23</td>\n",
       "      <td>0</td>\n",
       "      <td>4099</td>\n",
       "      <td>620</td>\n",
       "    </tr>\n",
       "    <tr>\n",
       "      <th>1</th>\n",
       "      <td>26</td>\n",
       "      <td>0</td>\n",
       "      <td>27</td>\n",
       "      <td>0</td>\n",
       "      <td>2677</td>\n",
       "      <td>1792</td>\n",
       "    </tr>\n",
       "    <tr>\n",
       "      <th>2</th>\n",
       "      <td>30</td>\n",
       "      <td>1</td>\n",
       "      <td>58</td>\n",
       "      <td>41576</td>\n",
       "      <td>6215</td>\n",
       "      <td>27754</td>\n",
       "    </tr>\n",
       "    <tr>\n",
       "      <th>3</th>\n",
       "      <td>26</td>\n",
       "      <td>1</td>\n",
       "      <td>25</td>\n",
       "      <td>43172</td>\n",
       "      <td>7626</td>\n",
       "      <td>28256</td>\n",
       "    </tr>\n",
       "    <tr>\n",
       "      <th>4</th>\n",
       "      <td>20</td>\n",
       "      <td>1</td>\n",
       "      <td>17</td>\n",
       "      <td>6979</td>\n",
       "      <td>8071</td>\n",
       "      <td>4438</td>\n",
       "    </tr>\n",
       "    <tr>\n",
       "      <th>...</th>\n",
       "      <td>...</td>\n",
       "      <td>...</td>\n",
       "      <td>...</td>\n",
       "      <td>...</td>\n",
       "      <td>...</td>\n",
       "      <td>...</td>\n",
       "    </tr>\n",
       "    <tr>\n",
       "      <th>958</th>\n",
       "      <td>22</td>\n",
       "      <td>0</td>\n",
       "      <td>11</td>\n",
       "      <td>8778</td>\n",
       "      <td>9829</td>\n",
       "      <td>1593</td>\n",
       "    </tr>\n",
       "    <tr>\n",
       "      <th>959</th>\n",
       "      <td>19</td>\n",
       "      <td>1</td>\n",
       "      <td>23</td>\n",
       "      <td>4850</td>\n",
       "      <td>3470</td>\n",
       "      <td>4742</td>\n",
       "    </tr>\n",
       "    <tr>\n",
       "      <th>960</th>\n",
       "      <td>28</td>\n",
       "      <td>1</td>\n",
       "      <td>28</td>\n",
       "      <td>9312</td>\n",
       "      <td>2720</td>\n",
       "      <td>12771</td>\n",
       "    </tr>\n",
       "    <tr>\n",
       "      <th>961</th>\n",
       "      <td>50</td>\n",
       "      <td>0</td>\n",
       "      <td>29</td>\n",
       "      <td>51343</td>\n",
       "      <td>8713</td>\n",
       "      <td>28511</td>\n",
       "    </tr>\n",
       "    <tr>\n",
       "      <th>962</th>\n",
       "      <td>47</td>\n",
       "      <td>1</td>\n",
       "      <td>15</td>\n",
       "      <td>3735</td>\n",
       "      <td>6406</td>\n",
       "      <td>6104</td>\n",
       "    </tr>\n",
       "  </tbody>\n",
       "</table>\n",
       "<p>963 rows × 6 columns</p>\n",
       "</div>"
      ],
      "text/plain": [
       "     age  gender  miles   debt  income  sales\n",
       "0     28       0     23      0    4099    620\n",
       "1     26       0     27      0    2677   1792\n",
       "2     30       1     58  41576    6215  27754\n",
       "3     26       1     25  43172    7626  28256\n",
       "4     20       1     17   6979    8071   4438\n",
       "..   ...     ...    ...    ...     ...    ...\n",
       "958   22       0     11   8778    9829   1593\n",
       "959   19       1     23   4850    3470   4742\n",
       "960   28       1     28   9312    2720  12771\n",
       "961   50       0     29  51343    8713  28511\n",
       "962   47       1     15   3735    6406   6104\n",
       "\n",
       "[963 rows x 6 columns]"
      ]
     },
     "execution_count": 4,
     "metadata": {},
     "output_type": "execute_result"
    }
   ],
   "source": [
    "data=pd.read_csv(\"coches.csv\")#Leemos el fichero csv\n",
    "data"
   ]
  },
  {
   "cell_type": "markdown",
   "metadata": {},
   "source": [
    "# 1. Haz todo el preprocesamiento para crear un set de entrenamiento y otro de validación qué permita clasificar rangos de precios que estén dispuestos a pagar que tengan sólo las características necesarias."
   ]
  },
  {
   "cell_type": "markdown",
   "metadata": {},
   "source": [
    "Para la realizacion de este primer apartado, primero veremos que variables son necesarias para realizar esta clasificacion. Para ello haremos uso de la libreria seaborn que nos indica que influencia tiene cada variable sobre el resto"
   ]
  },
  {
   "cell_type": "code",
   "execution_count": 5,
   "metadata": {},
   "outputs": [
    {
     "data": {
      "text/plain": [
       "<AxesSubplot:>"
      ]
     },
     "execution_count": 5,
     "metadata": {},
     "output_type": "execute_result"
    },
    {
     "data": {
      "image/png": "[encoded data removed]",
      "text/plain": [
       "<Figure size 720x720 with 2 Axes>"
      ]
     },
     "metadata": {},
     "output_type": "display_data"
    }
   ],
   "source": [
    "#Mediante el mapa observamos que caracteristicas afectan mas a las ventas\n",
    "f,ax = pl.subplots(figsize=(10, 10))\n",
    "sns.heatmap(data.corr(), annot=True, linewidths=0.5, fmt= '.2f',ax=ax)"
   ]
  },
  {
   "cell_type": "markdown",
   "metadata": {},
   "source": [
    "Para asegurarnos, comprobaremos que la realacion indicada por seaborn es correcta mediante el comando corr(), que nos indica la correlacion que existe entre las variables"
   ]
  },
  {
   "cell_type": "code",
   "execution_count": 6,
   "metadata": {},
   "outputs": [
    {
     "data": {
      "text/html": [
       "<div>\n",
       "<style scoped>\n",
       "    .dataframe tbody tr th:only-of-type {\n",
       "        vertical-align: middle;\n",
       "    }\n",
       "\n",
       "    .dataframe tbody tr th {\n",
       "        vertical-align: top;\n",
       "    }\n",
       "\n",
       "    .dataframe thead th {\n",
       "        text-align: right;\n",
       "    }\n",
       "</style>\n",
       "<table border=\"1\" class=\"dataframe\">\n",
       "  <thead>\n",
       "    <tr style=\"text-align: right;\">\n",
       "      <th></th>\n",
       "      <th>age</th>\n",
       "      <th>gender</th>\n",
       "      <th>miles</th>\n",
       "      <th>debt</th>\n",
       "      <th>income</th>\n",
       "      <th>sales</th>\n",
       "    </tr>\n",
       "  </thead>\n",
       "  <tbody>\n",
       "    <tr>\n",
       "      <th>age</th>\n",
       "      <td>1.000000</td>\n",
       "      <td>-0.000702</td>\n",
       "      <td>0.232399</td>\n",
       "      <td>0.218896</td>\n",
       "      <td>0.239644</td>\n",
       "      <td>0.352609</td>\n",
       "    </tr>\n",
       "    <tr>\n",
       "      <th>gender</th>\n",
       "      <td>-0.000702</td>\n",
       "      <td>1.000000</td>\n",
       "      <td>-0.031355</td>\n",
       "      <td>-0.033181</td>\n",
       "      <td>-0.034317</td>\n",
       "      <td>-0.036350</td>\n",
       "    </tr>\n",
       "    <tr>\n",
       "      <th>miles</th>\n",
       "      <td>0.232399</td>\n",
       "      <td>-0.031355</td>\n",
       "      <td>1.000000</td>\n",
       "      <td>0.544791</td>\n",
       "      <td>0.422141</td>\n",
       "      <td>0.636676</td>\n",
       "    </tr>\n",
       "    <tr>\n",
       "      <th>debt</th>\n",
       "      <td>0.218896</td>\n",
       "      <td>-0.033181</td>\n",
       "      <td>0.544791</td>\n",
       "      <td>1.000000</td>\n",
       "      <td>0.491790</td>\n",
       "      <td>0.835541</td>\n",
       "    </tr>\n",
       "    <tr>\n",
       "      <th>income</th>\n",
       "      <td>0.239644</td>\n",
       "      <td>-0.034317</td>\n",
       "      <td>0.422141</td>\n",
       "      <td>0.491790</td>\n",
       "      <td>1.000000</td>\n",
       "      <td>0.674685</td>\n",
       "    </tr>\n",
       "    <tr>\n",
       "      <th>sales</th>\n",
       "      <td>0.352609</td>\n",
       "      <td>-0.036350</td>\n",
       "      <td>0.636676</td>\n",
       "      <td>0.835541</td>\n",
       "      <td>0.674685</td>\n",
       "      <td>1.000000</td>\n",
       "    </tr>\n",
       "  </tbody>\n",
       "</table>\n",
       "</div>"
      ],
      "text/plain": [
       "             age    gender     miles      debt    income     sales\n",
       "age     1.000000 -0.000702  0.232399  0.218896  0.239644  0.352609\n",
       "gender -0.000702  1.000000 -0.031355 -0.033181 -0.034317 -0.036350\n",
       "miles   0.232399 -0.031355  1.000000  0.544791  0.422141  0.636676\n",
       "debt    0.218896 -0.033181  0.544791  1.000000  0.491790  0.835541\n",
       "income  0.239644 -0.034317  0.422141  0.491790  1.000000  0.674685\n",
       "sales   0.352609 -0.036350  0.636676  0.835541  0.674685  1.000000"
      ]
     },
     "execution_count": 6,
     "metadata": {},
     "output_type": "execute_result"
    }
   ],
   "source": [
    "data.corr()# sin sns"
   ]
  },
  {
   "cell_type": "markdown",
   "metadata": {},
   "source": [
    "Tras conocer que caracteristicas son relevantes para hacer este estudio, eliminaremos aquellas columnas que no sean necesarias. En este caso, como hemos podido ver anteriormente, la edad y el genero no influye a la cantidad que hayan pagado por un coche"
   ]
  },
  {
   "cell_type": "code",
   "execution_count": 7,
   "metadata": {},
   "outputs": [],
   "source": [
    "#Eliminamos dichas columnas\n",
    "data=data.drop(columns=['age', 'gender'])"
   ]
  },
  {
   "cell_type": "markdown",
   "metadata": {},
   "source": [
    "Mostramos un resumen de los valores de cada caracteristica usada para el ejercicio, y para conocer de una forma concreta como tendremos que distribuir los rangos de una forma mas correcta. Para ello nos fijaremos dentro de la columna sales, en las filas que van del min al max, y con eso definiremos los rangos."
   ]
  },
  {
   "cell_type": "code",
   "execution_count": 8,
   "metadata": {},
   "outputs": [
    {
     "data": {
      "text/html": [
       "<div>\n",
       "<style scoped>\n",
       "    .dataframe tbody tr th:only-of-type {\n",
       "        vertical-align: middle;\n",
       "    }\n",
       "\n",
       "    .dataframe tbody tr th {\n",
       "        vertical-align: top;\n",
       "    }\n",
       "\n",
       "    .dataframe thead th {\n",
       "        text-align: right;\n",
       "    }\n",
       "</style>\n",
       "<table border=\"1\" class=\"dataframe\">\n",
       "  <thead>\n",
       "    <tr style=\"text-align: right;\">\n",
       "      <th></th>\n",
       "      <th>miles</th>\n",
       "      <th>debt</th>\n",
       "      <th>income</th>\n",
       "      <th>sales</th>\n",
       "    </tr>\n",
       "  </thead>\n",
       "  <tbody>\n",
       "    <tr>\n",
       "      <th>count</th>\n",
       "      <td>963.000000</td>\n",
       "      <td>963.000000</td>\n",
       "      <td>963.000000</td>\n",
       "      <td>963.000000</td>\n",
       "    </tr>\n",
       "    <tr>\n",
       "      <th>mean</th>\n",
       "      <td>27.704050</td>\n",
       "      <td>14109.004154</td>\n",
       "      <td>6176.047767</td>\n",
       "      <td>11689.860852</td>\n",
       "    </tr>\n",
       "    <tr>\n",
       "      <th>std</th>\n",
       "      <td>13.378181</td>\n",
       "      <td>18273.702481</td>\n",
       "      <td>3260.670142</td>\n",
       "      <td>8986.896921</td>\n",
       "    </tr>\n",
       "    <tr>\n",
       "      <th>min</th>\n",
       "      <td>10.000000</td>\n",
       "      <td>0.000000</td>\n",
       "      <td>0.000000</td>\n",
       "      <td>500.000000</td>\n",
       "    </tr>\n",
       "    <tr>\n",
       "      <th>25%</th>\n",
       "      <td>20.000000</td>\n",
       "      <td>1475.000000</td>\n",
       "      <td>3506.500000</td>\n",
       "      <td>3554.000000</td>\n",
       "    </tr>\n",
       "    <tr>\n",
       "      <th>50%</th>\n",
       "      <td>25.000000</td>\n",
       "      <td>6236.000000</td>\n",
       "      <td>6360.000000</td>\n",
       "      <td>9130.000000</td>\n",
       "    </tr>\n",
       "    <tr>\n",
       "      <th>75%</th>\n",
       "      <td>32.000000</td>\n",
       "      <td>16686.000000</td>\n",
       "      <td>8649.500000</td>\n",
       "      <td>19245.000000</td>\n",
       "    </tr>\n",
       "    <tr>\n",
       "      <th>max</th>\n",
       "      <td>97.000000</td>\n",
       "      <td>59770.000000</td>\n",
       "      <td>11970.000000</td>\n",
       "      <td>29926.000000</td>\n",
       "    </tr>\n",
       "  </tbody>\n",
       "</table>\n",
       "</div>"
      ],
      "text/plain": [
       "            miles          debt        income         sales\n",
       "count  963.000000    963.000000    963.000000    963.000000\n",
       "mean    27.704050  14109.004154   6176.047767  11689.860852\n",
       "std     13.378181  18273.702481   3260.670142   8986.896921\n",
       "min     10.000000      0.000000      0.000000    500.000000\n",
       "25%     20.000000   1475.000000   3506.500000   3554.000000\n",
       "50%     25.000000   6236.000000   6360.000000   9130.000000\n",
       "75%     32.000000  16686.000000   8649.500000  19245.000000\n",
       "max     97.000000  59770.000000  11970.000000  29926.000000"
      ]
     },
     "execution_count": 8,
     "metadata": {},
     "output_type": "execute_result"
    }
   ],
   "source": [
    "data.describe()#Utilizamos describe para dividir el rango en secciones de 25%"
   ]
  },
  {
   "cell_type": "markdown",
   "metadata": {},
   "source": [
    "Para definir los rangos, lo hacemos mediante una lista de condiciones, donde haremos referencia a cada rango de menor a mayor en un numero del 1 al 4 respectivamnete."
   ]
  },
  {
   "cell_type": "code",
   "execution_count": 9,
   "metadata": {},
   "outputs": [
    {
     "data": {
      "text/html": [
       "<div>\n",
       "<style scoped>\n",
       "    .dataframe tbody tr th:only-of-type {\n",
       "        vertical-align: middle;\n",
       "    }\n",
       "\n",
       "    .dataframe tbody tr th {\n",
       "        vertical-align: top;\n",
       "    }\n",
       "\n",
       "    .dataframe thead th {\n",
       "        text-align: right;\n",
       "    }\n",
       "</style>\n",
       "<table border=\"1\" class=\"dataframe\">\n",
       "  <thead>\n",
       "    <tr style=\"text-align: right;\">\n",
       "      <th></th>\n",
       "      <th>miles</th>\n",
       "      <th>debt</th>\n",
       "      <th>income</th>\n",
       "      <th>sales</th>\n",
       "    </tr>\n",
       "  </thead>\n",
       "  <tbody>\n",
       "    <tr>\n",
       "      <th>0</th>\n",
       "      <td>23</td>\n",
       "      <td>0</td>\n",
       "      <td>4099</td>\n",
       "      <td>1</td>\n",
       "    </tr>\n",
       "    <tr>\n",
       "      <th>1</th>\n",
       "      <td>27</td>\n",
       "      <td>0</td>\n",
       "      <td>2677</td>\n",
       "      <td>1</td>\n",
       "    </tr>\n",
       "    <tr>\n",
       "      <th>2</th>\n",
       "      <td>58</td>\n",
       "      <td>41576</td>\n",
       "      <td>6215</td>\n",
       "      <td>4</td>\n",
       "    </tr>\n",
       "    <tr>\n",
       "      <th>3</th>\n",
       "      <td>25</td>\n",
       "      <td>43172</td>\n",
       "      <td>7626</td>\n",
       "      <td>4</td>\n",
       "    </tr>\n",
       "    <tr>\n",
       "      <th>4</th>\n",
       "      <td>17</td>\n",
       "      <td>6979</td>\n",
       "      <td>8071</td>\n",
       "      <td>2</td>\n",
       "    </tr>\n",
       "    <tr>\n",
       "      <th>...</th>\n",
       "      <td>...</td>\n",
       "      <td>...</td>\n",
       "      <td>...</td>\n",
       "      <td>...</td>\n",
       "    </tr>\n",
       "    <tr>\n",
       "      <th>958</th>\n",
       "      <td>11</td>\n",
       "      <td>8778</td>\n",
       "      <td>9829</td>\n",
       "      <td>1</td>\n",
       "    </tr>\n",
       "    <tr>\n",
       "      <th>959</th>\n",
       "      <td>23</td>\n",
       "      <td>4850</td>\n",
       "      <td>3470</td>\n",
       "      <td>2</td>\n",
       "    </tr>\n",
       "    <tr>\n",
       "      <th>960</th>\n",
       "      <td>28</td>\n",
       "      <td>9312</td>\n",
       "      <td>2720</td>\n",
       "      <td>3</td>\n",
       "    </tr>\n",
       "    <tr>\n",
       "      <th>961</th>\n",
       "      <td>29</td>\n",
       "      <td>51343</td>\n",
       "      <td>8713</td>\n",
       "      <td>4</td>\n",
       "    </tr>\n",
       "    <tr>\n",
       "      <th>962</th>\n",
       "      <td>15</td>\n",
       "      <td>3735</td>\n",
       "      <td>6406</td>\n",
       "      <td>2</td>\n",
       "    </tr>\n",
       "  </tbody>\n",
       "</table>\n",
       "<p>963 rows × 4 columns</p>\n",
       "</div>"
      ],
      "text/plain": [
       "     miles   debt  income sales\n",
       "0       23      0    4099     1\n",
       "1       27      0    2677     1\n",
       "2       58  41576    6215     4\n",
       "3       25  43172    7626     4\n",
       "4       17   6979    8071     2\n",
       "..     ...    ...     ...   ...\n",
       "958     11   8778    9829     1\n",
       "959     23   4850    3470     2\n",
       "960     28   9312    2720     3\n",
       "961     29  51343    8713     4\n",
       "962     15   3735    6406     2\n",
       "\n",
       "[963 rows x 4 columns]"
      ]
     },
     "execution_count": 9,
     "metadata": {},
     "output_type": "execute_result"
    }
   ],
   "source": [
    "#Dividimos las ventas en 4 \n",
    "conditionlist = [\n",
    "    (data['sales'] >= 500.0) & (data['sales'] <=3554.0), #0-25\n",
    "    (data['sales'] >= 3554.0) & (data['sales'] <=9130.0),#25-50\n",
    "    (data['sales'] >= 9130.0) & (data['sales'] <=19245.0),#50-75\n",
    "    (data['sales'] > 19245.0)]#75-100\n",
    "choicelist = [1, 2, 3, 4]\n",
    "data['sales'] = np.select(conditionlist, choicelist, default='Not Specified')\n",
    "data"
   ]
  },
  {
   "cell_type": "markdown",
   "metadata": {},
   "source": [
    "Una vez definidos los rangos, tenemos que señalar cuales sean nuestros datos para realizar la clasificacion. En nuestro caso, la 'y' cogera los valores de la variable sobre la que realizaremos la clasificacion, y la 'x', con el resto de caracteristicas, las cuales se utilizaran para predecir futuros valores de 'y'  "
   ]
  },
  {
   "cell_type": "markdown",
   "metadata": {},
   "source": [
    "# 2. Prueba con distintas configuraciones de las dos métricas principales. La primera métrica corresponde al número de individuos que usarás para clasificar una nueva instancia y la segunda cómo vas a medir la cercanía de esa nueva instancia con el resto. ¿Qué decisiones has tomado? ¿Por qué? "
   ]
  },
  {
   "cell_type": "markdown",
   "metadata": {},
   "source": [
    "La primera configuracion que realizaremos sera de acuerdo con el numero de individuos que utilizaremos para clasificar esta nueva instancia. Para ello haremos uso del siguiente comando, para dividir los porcentajes de los individuos a utilizar para tanto clasificar como entrenar. En nuestro caso utilizaremos un 20% de los individuos para clasificar las nuevas instancias"
   ]
  },
  {
   "cell_type": "code",
   "execution_count": 10,
   "metadata": {},
   "outputs": [],
   "source": [
    "#Creamos los datos con de entrenamiento y el test\n",
    "x=data.drop([\"sales\"],axis=1)\n",
    "y=data[\"sales\"]\n",
    "#80% para el training 20%para la validacion\n",
    "x_train,x_test,y_train,y_test=train_test_split(x,y,test_size=0.2,random_state=0)"
   ]
  },
  {
   "cell_type": "markdown",
   "metadata": {},
   "source": [
    "Tras definir la configuración de cuantos individuos utilizaremos para clasificar las nuevas instancias, ahora pasaremos a configurar como vamos a medir la cercania entre individuos, y cual sera el numero de neighbors qeu utilizaremos. Para ello haremos uso de un algoritmo KNN, y en la primera configuracion haremos uso 20 vecinos para clasificar. \n",
    "\n",
    "Para definir las metricas referenciadas en el enunciado, comparando las dos configuraciones que vamos a realizar, solo variaremos el p=1 o p=2, que son distancia euclidea y manhattan respectivamente. La metrica se mantendrá la predeterminada, y veremos, para un mismo numero de vecinos cual clasifica de la mejor forma, y sera la que elegiremos de cara al siguiente apartado."
   ]
  },
  {
   "cell_type": "code",
   "execution_count": 11,
   "metadata": {},
   "outputs": [
    {
     "name": "stdout",
     "output_type": "stream",
     "text": [
      "['1' '4' '2' '4' '3' '2' '4' '3' '3' '4' '2' '2' '2' '4' '4' '4' '4' '3'\n",
      " '2' '3' '2' '2' '3' '4' '3' '2' '4' '1' '3' '4' '3' '3' '2' '3' '1' '2'\n",
      " '3' '1' '4' '2' '1' '3' '4' '3' '2' '2' '2' '1' '4' '2' '4' '4' '3' '4'\n",
      " '4' '4' '2' '1' '1' '2' '4' '4' '3' '4' '4' '4' '1' '2' '2' '4' '4' '4'\n",
      " '4' '2' '2' '3' '1' '2' '4' '1' '4' '2' '4' '3' '1' '3' '3' '1' '1' '1'\n",
      " '4' '4' '2' '3' '1' '3' '3' '2' '4' '4' '2' '4' '3' '4' '4' '3' '4' '1'\n",
      " '1' '2' '2' '3' '3' '4' '1' '4' '3' '3' '3' '4' '1' '1' '4' '1' '2' '3'\n",
      " '2' '3' '3' '3' '1' '3' '3' '2' '3' '1' '4' '3' '1' '2' '4' '4' '3' '2'\n",
      " '1' '3' '3' '2' '4' '2' '4' '2' '3' '4' '3' '2' '4' '1' '1' '1' '1' '3'\n",
      " '3' '1' '2' '4' '1' '1' '3' '1' '2' '1' '1' '3' '4' '4' '4' '4' '1' '1'\n",
      " '2' '1' '4' '1' '4' '2' '2' '3' '1' '4' '2' '1' '2']\n"
     ]
    }
   ],
   "source": [
    "#Definimos el clasificador\n",
    "vecinos=KNeighborsClassifier(n_neighbors=20,weights='distance',p=2,metric='minkowski')\n",
    "#Entrenamos con el clasificador y los datos de entrenamiento\n",
    "vecinos.fit(x_train,y_train)\n",
    "#Mostramos la solucion tras la validacion\n",
    "sol=vecinos.predict(x_test)\n",
    "print(sol)"
   ]
  },
  {
   "cell_type": "code",
   "execution_count": 12,
   "metadata": {},
   "outputs": [
    {
     "name": "stdout",
     "output_type": "stream",
     "text": [
      "Accuracy: 0.694300518134715\n",
      "Error: 0.30569948186528495\n"
     ]
    }
   ],
   "source": [
    "print(\"Accuracy:\",metrics.accuracy_score(y_test,sol))\n",
    "print(\"Error:\",1-metrics.accuracy_score(y_test,sol))"
   ]
  },
  {
   "cell_type": "markdown",
   "metadata": {},
   "source": [
    "Tras obtener un accuracy bajo para un numero alto de neighbors, comprobaremos si para la distancia de manhattan mejora esta precision. Haremos uso de la que mejor precision tenga a la hora de clasificar para el numero de vecinos indicado."
   ]
  },
  {
   "cell_type": "code",
   "execution_count": 13,
   "metadata": {},
   "outputs": [
    {
     "name": "stdout",
     "output_type": "stream",
     "text": [
      "['1' '4' '2' '4' '3' '2' '4' '3' '3' '4' '2' '2' '3' '4' '4' '4' '4' '3'\n",
      " '2' '3' '2' '2' '3' '4' '3' '2' '4' '1' '3' '4' '3' '3' '2' '1' '1' '2'\n",
      " '3' '1' '4' '2' '1' '3' '4' '3' '2' '2' '2' '1' '4' '2' '4' '4' '3' '4'\n",
      " '4' '4' '2' '1' '1' '2' '4' '4' '2' '4' '4' '4' '1' '2' '2' '4' '4' '4'\n",
      " '4' '2' '2' '3' '1' '2' '4' '1' '4' '1' '4' '3' '1' '3' '3' '1' '1' '1'\n",
      " '4' '4' '2' '3' '2' '3' '3' '2' '4' '4' '2' '4' '3' '4' '4' '3' '4' '1'\n",
      " '1' '2' '2' '3' '3' '4' '1' '4' '3' '3' '3' '4' '1' '1' '4' '1' '2' '3'\n",
      " '2' '3' '3' '3' '1' '3' '3' '2' '3' '1' '4' '3' '1' '2' '4' '4' '3' '2'\n",
      " '1' '3' '3' '2' '4' '2' '4' '2' '3' '4' '3' '2' '4' '1' '1' '1' '1' '3'\n",
      " '3' '1' '2' '4' '1' '1' '3' '1' '2' '2' '1' '4' '4' '4' '4' '4' '1' '1'\n",
      " '2' '1' '4' '1' '4' '2' '2' '3' '1' '4' '2' '1' '2']\n"
     ]
    }
   ],
   "source": [
    "#Definimos el clasificador\n",
    "vecinos2=KNeighborsClassifier(n_neighbors=20,weights='distance',p=1,metric='minkowski')\n",
    "#Entrenamos con el clasificador y los datos de entrenamiento\n",
    "vecinos2.fit(x_train,y_train)\n",
    "#Mostramos la solucion tras la validacion\n",
    "sol2=vecinos2.predict(x_test)\n",
    "print(sol2)"
   ]
  },
  {
   "cell_type": "code",
   "execution_count": 14,
   "metadata": {},
   "outputs": [
    {
     "name": "stdout",
     "output_type": "stream",
     "text": [
      "Accuracy: 0.7150259067357513\n",
      "Error: 0.2849740932642487\n"
     ]
    }
   ],
   "source": [
    "print(\"Accuracy:\",metrics.accuracy_score(y_test,sol2))\n",
    "print(\"Error:\",1-metrics.accuracy_score(y_test,sol2))"
   ]
  },
  {
   "cell_type": "markdown",
   "metadata": {},
   "source": [
    "Como podemos ver, tras introducir las metricas referenciadas en el enunciado, introducimos dentro de los nuevos parametros, donde varia p=2 haciendo referencia a la distancia euclidea, y p=1, haciendo referencia a la distancia de manhattan. Como podemos ver, para el mismo numero de neighbors, tiene mejor precision con p=1, por lo que para el siguiente apartado, haremos uso de la distancia de manhatan con la metrica predeterminada de 'minkowski'. \n",
    "\n",
    "Cuando ya sabemos que metrica usar, identificaremos para que numero de neighbors es mejor la clasificacion. En este caso, comprobaremos que para 50 neighbors adquiriremos un accuracy mas alto. Por lo que a mayor numero de vecinos, mejor precision."
   ]
  },
  {
   "cell_type": "code",
   "execution_count": 15,
   "metadata": {},
   "outputs": [
    {
     "name": "stdout",
     "output_type": "stream",
     "text": [
      "[[33 10  4  0]\n",
      " [ 7 23 13  0]\n",
      " [ 2 10 30  3]\n",
      " [ 0  1  3 54]]\n",
      "              precision    recall  f1-score   support\n",
      "\n",
      "           1       0.79      0.70      0.74        47\n",
      "           2       0.52      0.53      0.53        43\n",
      "           3       0.60      0.67      0.63        45\n",
      "           4       0.95      0.93      0.94        58\n",
      "\n",
      "    accuracy                           0.73       193\n",
      "   macro avg       0.71      0.71      0.71       193\n",
      "weighted avg       0.73      0.73      0.73       193\n",
      "\n",
      "Accuracy: 0.7253886010362695\n"
     ]
    }
   ],
   "source": [
    "#Definimos el clasificador despues explicaremos la razon por la que hemos escogido 50\n",
    "knn=KNeighborsClassifier(n_neighbors=50,weights='distance',p=1,metric='minkowski')\n",
    "#Entrenamos con el clasificador y los datos de entrenamiento\n",
    "knn.fit(x_train,y_train)\n",
    "#Mostramos la solucion tras la validacion\n",
    "pred=knn.predict(x_test)\n",
    "print(confusion_matrix(y_test,pred))\n",
    "print(classification_report(y_test, pred))\n",
    "print(\"Accuracy:\",metrics.accuracy_score(y_test,pred))"
   ]
  },
  {
   "cell_type": "markdown",
   "metadata": {},
   "source": [
    "Finalmente, tras comprobar, que el menor numero de vecinos es 50, tras realizar la comprobacion de las metricas, hemos determinado que la distancia euclidea será mas precisa, por que cada vez que aumenta el numero de neigbors, la distancia euclidea va siendo menor por lo que obtendrá una mayor precision"
   ]
  },
  {
   "cell_type": "code",
   "execution_count": 16,
   "metadata": {},
   "outputs": [
    {
     "data": {
      "text/plain": [
       "<AxesSubplot:title={'center':'Normalized Confusion Matrix'}, xlabel='Predicted label', ylabel='True label'>"
      ]
     },
     "execution_count": 16,
     "metadata": {},
     "output_type": "execute_result"
    },
    {
     "data": {
      "image/png": "[encoded data removed]",
      "text/plain": [
       "<Figure size 432x432 with 2 Axes>"
      ]
     },
     "metadata": {},
     "output_type": "display_data"
    }
   ],
   "source": [
    "skplt.metrics.plot_confusion_matrix(y_test, knn.predict(x_test),normalize=True,figsize=(6,6),text_fontsize='small')"
   ]
  },
  {
   "cell_type": "markdown",
   "metadata": {},
   "source": [
    "Como podemos ver, a mayor numero de vecinos para entrenar hasta cierto punto, mejor accuracy, por lo que haremos uso de valores altos de numero de vecinos para poder hacer la clasificacion mas correcta posible."
   ]
  },
  {
   "cell_type": "markdown",
   "metadata": {},
   "source": [
    "# 3. Elige la mejor configuración entre las anteriores. Para ello dibuja una tabla ver cómo evoluciona la clasificación.  Dibuja  los  resultados  que  se  obtienen  con  ambas  configuraciones  elegidas  cómo  las mejores"
   ]
  },
  {
   "cell_type": "code",
   "execution_count": 17,
   "metadata": {},
   "outputs": [],
   "source": [
    "#Creamos variables donde se guardaran los datos del error y del numero de neighbours\n",
    "#error\n",
    "numero=list(range(1, 101))\n",
    "\n",
    "#numero de 1 a 30\n",
    "error = []\n",
    "error = list()"
   ]
  },
  {
   "cell_type": "code",
   "execution_count": 20,
   "metadata": {},
   "outputs": [
    {
     "data": {
      "text/plain": [
       "0.27461139896373055"
      ]
     },
     "execution_count": 20,
     "metadata": {},
     "output_type": "execute_result"
    }
   ],
   "source": [
    "vecinos2=KNeighborsClassifier(n_neighbors=50,weights='distance',p=1,metric='minkowski')\n",
    "    #Entrenamos con el clasificador y los datos de entrenamiento\n",
    "vecinos2.fit(x_train,y_train)\n",
    "    #Mostramos la solucion tras la validacion\n",
    "sol=vecinos2.predict(x_test)\n",
    "precision=metrics.accuracy_score(y_test,sol)\n",
    "    #Calculamos el error\n",
    "errorprueba=1-precision\n",
    "errorprueba\n"
   ]
  },
  {
   "cell_type": "code",
   "execution_count": 21,
   "metadata": {},
   "outputs": [],
   "source": [
    "#Creamos un bucle que realice 30 iteraciones empezando en 1 y acabando en 31(31 no incluido) \n",
    "#para que se pueda ver el error que se obtiene al aumentar el numero de vecinos\n",
    "for i in range (1,101):\n",
    "    #Definimos el clasificador\n",
    "    vecinos2=KNeighborsClassifier(n_neighbors=i)\n",
    "    #Entrenamos con el clasificador y los datos de entrenamiento\n",
    "    vecinos2.fit(x_train,y_train)\n",
    "    #Mostramos la solucion tras la validacion\n",
    "    sol=vecinos2.predict(x_test)\n",
    "    precision=metrics.accuracy_score(y_test,sol)\n",
    "    #Calculamos el error\n",
    "    errorpreci=1-precision\n",
    "    error.append(errorpreci)\n"
   ]
  },
  {
   "cell_type": "code",
   "execution_count": 22,
   "metadata": {},
   "outputs": [
    {
     "data": {
      "text/html": [
       "<div>\n",
       "<style scoped>\n",
       "    .dataframe tbody tr th:only-of-type {\n",
       "        vertical-align: middle;\n",
       "    }\n",
       "\n",
       "    .dataframe tbody tr th {\n",
       "        vertical-align: top;\n",
       "    }\n",
       "\n",
       "    .dataframe thead th {\n",
       "        text-align: right;\n",
       "    }\n",
       "</style>\n",
       "<table border=\"1\" class=\"dataframe\">\n",
       "  <thead>\n",
       "    <tr style=\"text-align: right;\">\n",
       "      <th></th>\n",
       "      <th>Neighbours</th>\n",
       "      <th>Error</th>\n",
       "    </tr>\n",
       "  </thead>\n",
       "  <tbody>\n",
       "    <tr>\n",
       "      <th>0</th>\n",
       "      <td>1</td>\n",
       "      <td>0.321244</td>\n",
       "    </tr>\n",
       "    <tr>\n",
       "      <th>1</th>\n",
       "      <td>2</td>\n",
       "      <td>0.388601</td>\n",
       "    </tr>\n",
       "    <tr>\n",
       "      <th>2</th>\n",
       "      <td>3</td>\n",
       "      <td>0.367876</td>\n",
       "    </tr>\n",
       "    <tr>\n",
       "      <th>3</th>\n",
       "      <td>4</td>\n",
       "      <td>0.404145</td>\n",
       "    </tr>\n",
       "    <tr>\n",
       "      <th>4</th>\n",
       "      <td>5</td>\n",
       "      <td>0.326425</td>\n",
       "    </tr>\n",
       "    <tr>\n",
       "      <th>...</th>\n",
       "      <td>...</td>\n",
       "      <td>...</td>\n",
       "    </tr>\n",
       "    <tr>\n",
       "      <th>95</th>\n",
       "      <td>96</td>\n",
       "      <td>0.326425</td>\n",
       "    </tr>\n",
       "    <tr>\n",
       "      <th>96</th>\n",
       "      <td>97</td>\n",
       "      <td>0.326425</td>\n",
       "    </tr>\n",
       "    <tr>\n",
       "      <th>97</th>\n",
       "      <td>98</td>\n",
       "      <td>0.326425</td>\n",
       "    </tr>\n",
       "    <tr>\n",
       "      <th>98</th>\n",
       "      <td>99</td>\n",
       "      <td>0.331606</td>\n",
       "    </tr>\n",
       "    <tr>\n",
       "      <th>99</th>\n",
       "      <td>100</td>\n",
       "      <td>0.341969</td>\n",
       "    </tr>\n",
       "  </tbody>\n",
       "</table>\n",
       "<p>100 rows × 2 columns</p>\n",
       "</div>"
      ],
      "text/plain": [
       "    Neighbours     Error\n",
       "0            1  0.321244\n",
       "1            2  0.388601\n",
       "2            3  0.367876\n",
       "3            4  0.404145\n",
       "4            5  0.326425\n",
       "..         ...       ...\n",
       "95          96  0.326425\n",
       "96          97  0.326425\n",
       "97          98  0.326425\n",
       "98          99  0.331606\n",
       "99         100  0.341969\n",
       "\n",
       "[100 rows x 2 columns]"
      ]
     },
     "execution_count": 22,
     "metadata": {},
     "output_type": "execute_result"
    }
   ],
   "source": [
    "#Creacion de la tabla donde se muestra la disminucion del error al aumentar el numero de vecinos hasta cierto punto\n",
    "# El punto en el que vuelve a aumentar el error es el numero 50\n",
    "tabla = pd.DataFrame({\"Neighbours\": numero,\"Error\": error})\n",
    "tabla"
   ]
  },
  {
   "cell_type": "code",
   "execution_count": 23,
   "metadata": {
    "scrolled": true
   },
   "outputs": [
    {
     "data": {
      "image/png": "[encoded data removed]",
      "text/plain": [
       "<Figure size 2160x576 with 1 Axes>"
      ]
     },
     "metadata": {},
     "output_type": "display_data"
    }
   ],
   "source": [
    "#Grafica que muestra la disminucion y el posterior aumento del error\n",
    "pl.figure(figsize=(30,8))\n",
    "pl.plot(numero, error)\n",
    "pl.title('Numero neighbors vs Error')\n",
    "pl.xticks(numero)\n",
    "pl.xlabel('Numero de neighbor')\n",
    "pl.ylabel('Error')\n",
    "pl.show()"
   ]
  },
  {
   "cell_type": "markdown",
   "metadata": {},
   "source": [
    "Como podemos ver al aumentar el numero de neighbours el error desciende dado que aumenta la precision"
   ]
  },
  {
   "cell_type": "markdown",
   "metadata": {},
   "source": [
    "# 4. Utiliza  el  clasificador  para  saber  que  ocurre  con  los datos  de  un  nuevo dataset  que  se  llame “dispuestoapagar_clasificar.csv” que obtendremos del dataset proporcionado"
   ]
  },
  {
   "cell_type": "code",
   "execution_count": 24,
   "metadata": {},
   "outputs": [
    {
     "data": {
      "text/html": [
       "<div>\n",
       "<style scoped>\n",
       "    .dataframe tbody tr th:only-of-type {\n",
       "        vertical-align: middle;\n",
       "    }\n",
       "\n",
       "    .dataframe tbody tr th {\n",
       "        vertical-align: top;\n",
       "    }\n",
       "\n",
       "    .dataframe thead th {\n",
       "        text-align: right;\n",
       "    }\n",
       "</style>\n",
       "<table border=\"1\" class=\"dataframe\">\n",
       "  <thead>\n",
       "    <tr style=\"text-align: right;\">\n",
       "      <th></th>\n",
       "      <th>miles</th>\n",
       "      <th>debt</th>\n",
       "      <th>income</th>\n",
       "      <th>sales</th>\n",
       "    </tr>\n",
       "  </thead>\n",
       "  <tbody>\n",
       "    <tr>\n",
       "      <th>770</th>\n",
       "      <td>22</td>\n",
       "      <td>8096</td>\n",
       "      <td>5276</td>\n",
       "      <td>3</td>\n",
       "    </tr>\n",
       "    <tr>\n",
       "      <th>771</th>\n",
       "      <td>21</td>\n",
       "      <td>45358</td>\n",
       "      <td>7340</td>\n",
       "      <td>4</td>\n",
       "    </tr>\n",
       "    <tr>\n",
       "      <th>772</th>\n",
       "      <td>26</td>\n",
       "      <td>8464</td>\n",
       "      <td>7632</td>\n",
       "      <td>3</td>\n",
       "    </tr>\n",
       "    <tr>\n",
       "      <th>773</th>\n",
       "      <td>47</td>\n",
       "      <td>2303</td>\n",
       "      <td>8605</td>\n",
       "      <td>3</td>\n",
       "    </tr>\n",
       "    <tr>\n",
       "      <th>774</th>\n",
       "      <td>30</td>\n",
       "      <td>1982</td>\n",
       "      <td>6355</td>\n",
       "      <td>2</td>\n",
       "    </tr>\n",
       "    <tr>\n",
       "      <th>...</th>\n",
       "      <td>...</td>\n",
       "      <td>...</td>\n",
       "      <td>...</td>\n",
       "      <td>...</td>\n",
       "    </tr>\n",
       "    <tr>\n",
       "      <th>958</th>\n",
       "      <td>11</td>\n",
       "      <td>8778</td>\n",
       "      <td>9829</td>\n",
       "      <td>1</td>\n",
       "    </tr>\n",
       "    <tr>\n",
       "      <th>959</th>\n",
       "      <td>23</td>\n",
       "      <td>4850</td>\n",
       "      <td>3470</td>\n",
       "      <td>2</td>\n",
       "    </tr>\n",
       "    <tr>\n",
       "      <th>960</th>\n",
       "      <td>28</td>\n",
       "      <td>9312</td>\n",
       "      <td>2720</td>\n",
       "      <td>3</td>\n",
       "    </tr>\n",
       "    <tr>\n",
       "      <th>961</th>\n",
       "      <td>29</td>\n",
       "      <td>51343</td>\n",
       "      <td>8713</td>\n",
       "      <td>4</td>\n",
       "    </tr>\n",
       "    <tr>\n",
       "      <th>962</th>\n",
       "      <td>15</td>\n",
       "      <td>3735</td>\n",
       "      <td>6406</td>\n",
       "      <td>2</td>\n",
       "    </tr>\n",
       "  </tbody>\n",
       "</table>\n",
       "<p>193 rows × 4 columns</p>\n",
       "</div>"
      ],
      "text/plain": [
       "     miles   debt  income sales\n",
       "770     22   8096    5276     3\n",
       "771     21  45358    7340     4\n",
       "772     26   8464    7632     3\n",
       "773     47   2303    8605     3\n",
       "774     30   1982    6355     2\n",
       "..     ...    ...     ...   ...\n",
       "958     11   8778    9829     1\n",
       "959     23   4850    3470     2\n",
       "960     28   9312    2720     3\n",
       "961     29  51343    8713     4\n",
       "962     15   3735    6406     2\n",
       "\n",
       "[193 rows x 4 columns]"
      ]
     },
     "execution_count": 24,
     "metadata": {},
     "output_type": "execute_result"
    }
   ],
   "source": [
    "test=data.tail(193)\n",
    "test"
   ]
  },
  {
   "cell_type": "code",
   "execution_count": 25,
   "metadata": {},
   "outputs": [],
   "source": [
    "test.to_csv('dispuestoapagar_clasificar.csv', index=False)"
   ]
  },
  {
   "cell_type": "markdown",
   "metadata": {},
   "source": [
    "#Leemos los datos del csv creado\n",
    "data=pd.read_csv(\"dispuestoapagar_clasificar.csv\")#Leemos el fichero csv\n",
    "data"
   ]
  },
  {
   "cell_type": "code",
   "execution_count": 26,
   "metadata": {},
   "outputs": [],
   "source": [
    "#Creamos los datos con de entrenamiento y el test\n",
    "x_test=test.drop([\"sales\"],axis=1)\n",
    "y_test=test[\"sales\"]"
   ]
  },
  {
   "cell_type": "code",
   "execution_count": 27,
   "metadata": {
    "scrolled": true
   },
   "outputs": [
    {
     "data": {
      "text/plain": [
       "<AxesSubplot:title={'center':'Normalized Confusion Matrix'}, xlabel='Predicted label', ylabel='True label'>"
      ]
     },
     "execution_count": 27,
     "metadata": {},
     "output_type": "execute_result"
    },
    {
     "data": {
      "image/png": "[encoded data removed]",
      "text/plain": [
       "<Figure size 432x432 with 2 Axes>"
      ]
     },
     "metadata": {},
     "output_type": "display_data"
    }
   ],
   "source": [
    "skplt.metrics.plot_confusion_matrix(y_test, knn.predict(x_test),normalize=True,figsize=(6,6),text_fontsize='small')"
   ]
  },
  {
   "cell_type": "code",
   "execution_count": 28,
   "metadata": {},
   "outputs": [
    {
     "data": {
      "text/plain": [
       "array([[37,  3,  0,  0],\n",
       "       [ 0, 51,  5,  0],\n",
       "       [ 1,  1, 51,  0],\n",
       "       [ 0,  0,  0, 44]], dtype=int64)"
      ]
     },
     "execution_count": 28,
     "metadata": {},
     "output_type": "execute_result"
    }
   ],
   "source": [
    "confusion_matrix(knn.predict(x_test), y_test)"
   ]
  },
  {
   "cell_type": "markdown",
   "metadata": {},
   "source": [
    "params = {'n_neighbors':numero}\n",
    "\n",
    "knn = KNeighborsClassifier()\n",
    "\n",
    "model = GridSearchCV(knn, params, cv=5)\n",
    "model.fit(x_train,y_train)\n",
    "model.best_params_\n"
   ]
  },
  {
   "cell_type": "code",
   "execution_count": null,
   "metadata": {},
   "outputs": [],
   "source": []
  }
 ],
 "metadata": {
  "kernelspec": {
   "display_name": "Python 3",
   "language": "python",
   "name": "python3"
  },
  "language_info": {
   "codemirror_mode": {
    "name": "ipython",
    "version": 3
   },
   "file_extension": ".py",
   "mimetype": "text/x-python",
   "name": "python",
   "nbconvert_exporter": "python",
   "pygments_lexer": "ipython3",
   "version": "3.8.5"
  }
 },
 "nbformat": 4,
 "nbformat_minor": 4
}
